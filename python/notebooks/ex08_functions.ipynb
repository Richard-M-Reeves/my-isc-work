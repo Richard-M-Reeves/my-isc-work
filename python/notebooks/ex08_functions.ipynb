{
 "cells": [
  {
   "cell_type": "markdown",
   "metadata": {},
   "source": [
    "# Exercise 8: Functions"
   ]
  },
  {
   "cell_type": "markdown",
   "metadata": {},
   "source": [
    "## Aim: Introduce writing and calling functions.\n",
    "\n",
    "### Issues covered:\n",
    " - Writing a simple function\n",
    " - Indenting code within a function\n",
    " - Sending arguments to functions\n",
    " - Calling functions\n",
    " - Checking arguments in functions"
   ]
  },
  {
   "cell_type": "markdown",
   "metadata": {},
   "source": [
    "## 1. Let's create a simple function."
   ]
  },
  {
   "cell_type": "markdown",
   "metadata": {},
   "source": [
    "Use the `def` statement to define a function called `double_it`."
   ]
  },
  {
   "cell_type": "markdown",
   "metadata": {},
   "source": [
    "The function should take one argument called `number`."
   ]
  },
  {
   "cell_type": "markdown",
   "metadata": {},
   "source": [
    "It should return double the `number` argument."
   ]
  },
  {
   "cell_type": "code",
   "execution_count": 5,
   "metadata": {},
   "outputs": [],
   "source": [
    "def double_it(number):\n",
    "    return(number*2)"
   ]
  },
  {
   "cell_type": "markdown",
   "metadata": {},
   "source": [
    "Test the function by calling it with an integer and then a float."
   ]
  },
  {
   "cell_type": "code",
   "execution_count": 10,
   "metadata": {},
   "outputs": [
    {
     "data": {
      "text/plain": [
       "6.4"
      ]
     },
     "execution_count": 10,
     "metadata": {},
     "output_type": "execute_result"
    }
   ],
   "source": [
    "double_it(3.2)"
   ]
  },
  {
   "cell_type": "markdown",
   "metadata": {},
   "source": [
    "What happens if you send it a string rather than a number?"
   ]
  },
  {
   "cell_type": "code",
   "execution_count": 11,
   "metadata": {},
   "outputs": [
    {
     "data": {
      "text/plain": [
       "'aa'"
      ]
     },
     "execution_count": 11,
     "metadata": {},
     "output_type": "execute_result"
    }
   ],
   "source": [
    "double_it(\"a\")"
   ]
  },
  {
   "cell_type": "markdown",
   "metadata": {},
   "source": [
    "## 2. Let's write a simple function to calculate the length of the hypotenuse of a right-angled triangle given the length of the other sides (called \"a\" and \"b\")."
   ]
  },
  {
   "cell_type": "markdown",
   "metadata": {},
   "source": [
    "Use the `def` statement to define a function called `calc_hypo` that takes two arguments: `a` and `b`."
   ]
  },
  {
   "cell_type": "markdown",
   "metadata": {},
   "source": [
    "Inside the function, calculate the length of the hypotenuse and assign it to a variable called `hypo`."
   ]
  },
  {
   "cell_type": "markdown",
   "metadata": {},
   "source": [
    "Return the value of `hypo`."
   ]
  },
  {
   "cell_type": "code",
   "execution_count": 14,
   "metadata": {},
   "outputs": [],
   "source": [
    "def calc_hypo(a,b):\n",
    "    return((a*a+b*b)**0.5)"
   ]
  },
  {
   "cell_type": "markdown",
   "metadata": {},
   "source": [
    "Test out the function by calling it with values (3, 4)."
   ]
  },
  {
   "cell_type": "code",
   "execution_count": 15,
   "metadata": {},
   "outputs": [
    {
     "data": {
      "text/plain": [
       "5.0"
      ]
     },
     "execution_count": 15,
     "metadata": {},
     "output_type": "execute_result"
    }
   ],
   "source": [
    "calc_hypo(3,4)"
   ]
  },
  {
   "cell_type": "markdown",
   "metadata": {},
   "source": [
    "## 3. Let's improve the function above by adding some checks into the code."
   ]
  },
  {
   "cell_type": "markdown",
   "metadata": {},
   "source": [
    "Add a check on the arguments to make sure are of type `float` or `int`."
   ]
  },
  {
   "cell_type": "markdown",
   "metadata": {},
   "source": [
    "Add a check on the arguments to make sure they are greater than zero."
   ]
  },
  {
   "cell_type": "markdown",
   "metadata": {},
   "source": [
    "If any argument fails the checks: print `\"Bad argument\"` and return `False`."
   ]
  },
  {
   "cell_type": "code",
   "execution_count": 33,
   "metadata": {},
   "outputs": [],
   "source": [
    "def calc_hypot(a,b):\n",
    "    \"\"\"\n",
    "    function that retursns the hypotenuse as float\n",
    "    of returns False if there are errors in the inputs\n",
    "    \"\"\"\n",
    "    if not (((type(a)==int) or (type(a)==float)) & ((type(b)==int) or (type(b)==float))):\n",
    "        print(\"Bad Argument not numeric\")\n",
    "        return(False)\n",
    "    elif not ((a > 0)  & (b > 0)):\n",
    "        print(\"Bad Argument value = 0\")\n",
    "        return(False)\n",
    "    return((a*a+b*b)**0.5)"
   ]
  },
  {
   "cell_type": "markdown",
   "metadata": {},
   "source": [
    "Call the function with different arguments to test that the checks are working."
   ]
  },
  {
   "cell_type": "code",
   "execution_count": 35,
   "metadata": {},
   "outputs": [
    {
     "data": {
      "text/plain": [
       "7.0710678118654755"
      ]
     },
     "execution_count": 35,
     "metadata": {},
     "output_type": "execute_result"
    }
   ],
   "source": [
    "calc_hypot(1,7)"
   ]
  },
  {
   "cell_type": "code",
   "execution_count": 36,
   "metadata": {},
   "outputs": [
    {
     "name": "stdout",
     "output_type": "stream",
     "text": [
      "Help on function calc_hypot in module __main__:\n",
      "\n",
      "calc_hypot(a, b)\n",
      "    function that retursns the hypotenuse as float\n",
      "    of returns False if there are errors in the inputs\n",
      "\n"
     ]
    }
   ],
   "source": [
    "help(calc_hypot)"
   ]
  }
 ],
 "metadata": {
  "kernelspec": {
   "display_name": "Python 3 + Jaspy",
   "language": "python",
   "name": "jaspy"
  },
  "language_info": {
   "codemirror_mode": {
    "name": "ipython",
    "version": 3
   },
   "file_extension": ".py",
   "mimetype": "text/x-python",
   "name": "python",
   "nbconvert_exporter": "python",
   "pygments_lexer": "ipython3",
   "version": "3.8.12"
  }
 },
 "nbformat": 4,
 "nbformat_minor": 4
}
